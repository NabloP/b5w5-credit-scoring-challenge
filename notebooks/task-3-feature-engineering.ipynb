{
 "cells": [
  {
   "cell_type": "markdown",
   "id": "54e5145e",
   "metadata": {},
   "source": [
    "# 💳 Task 3 – Proxy Label Engineering & Behavioral Risk Feature Creation  \n",
    "📘 Version: 2025-07-01  \n",
    "\n",
    "This notebook designs and implements a **proxy risk labeling framework** for **Bati Bank’s BNPL Credit Scoring Initiative**.  \n",
    "It combines statistical hypothesis testing, behavioral risk segmentation, and rule-based label creation to generate the target variable (`is_high_risk`) required for model training (**Task 5**) and explainability (**Task 6**).  \n",
    "\n",
    "Outputs from this notebook will directly inform:\n",
    "- The development of a **credit risk model** to predict the likelihood of default or delinquency.\n",
    "- The creation of defensible risk categories to support **loan decisioning** and **credit policy design**.\n",
    "\n",
    "---\n",
    "\n",
    "**Challenge:** B5W5 – Credit Scoring & Risk Modeling  \n",
    "**Company:** Bati Bank (in partnership with an eCommerce platform)  \n",
    "**Author:** Nabil Mohamed  \n",
    "**Branch:** `task-3-proxy-label-engineering`  \n",
    "**Date:** July 2025  \n",
    "\n",
    "---\n",
    "\n",
    "## 📌 Notebook Outline  \n",
    "\n",
    "| Section | Description |\n",
    "|---------|-------------|\n",
    "| 1️⃣ Imports & Project Setup | Load libraries, define file paths, ensure reproducibility |\n",
    "| 2️⃣ Load Processed Dataset | Load enriched transaction dataset with RFM features |\n",
    "| 3️⃣ Statistical Testing: Shared vs Non-Shared Accounts | Test behavioral differences to validate segmentation needs |\n",
    "| 4️⃣ Fraud Risk Tagging | Apply rule-based tagging using `FraudResult` |\n",
    "| 5️⃣ Behavioral Risk Segmentation | Apply clustering or statistical rules to segment behavioral risk |\n",
    "| 6️⃣ Proxy Label Generation | Generate multi-tier `risk_category` and binary `is_high_risk` label |\n",
    "| 7️⃣ Save Enhanced Dataset | Store processed dataset for use in Task 5 modeling |\n",
    "| 8️⃣ Next Steps Preview | Outline the transition to modeling, evaluation, and deployment |\n",
    "\n",
    "---\n",
    "\n",
    "## ✏️ Key Design Principles:\n",
    "\n",
    "- All risk tagging is grounded in **statistical defensibility**—no manual thresholds without evidence.\n",
    "- Separate **operational risk (fraud)** from **behavioral credit risk** where appropriate.\n",
    "- All outputs are designed to be **directly reusable in the modeling pipeline (Task 5)** and **explainable for stakeholders (Task 6)**."
   ]
  },
  {
   "cell_type": "code",
   "execution_count": 1,
   "id": "2254364e",
   "metadata": {},
   "outputs": [
    {
     "name": "stdout",
     "output_type": "stream",
     "text": [
      "📂 Changed working directory to project root\n",
      "✅ Added to sys.path: c:\\Users\\admin\\Documents\\GIT Repositories\\b5w5-credit-scoring-challenge\n",
      "📁 Output path ready\n"
     ]
    }
   ],
   "source": [
    "# ------------------------------------------------------------------------------\n",
    "# 🛠 Ensure Notebook Runs from Project Root (for src/ imports to work)\n",
    "# ------------------------------------------------------------------------------\n",
    "\n",
    "import os\n",
    "import sys\n",
    "\n",
    "# If running from /notebooks/, move up to project root\n",
    "if os.path.basename(os.getcwd()) == \"notebooks\":\n",
    "    os.chdir(\"..\")\n",
    "    print(\"📂 Changed working directory to project root\")\n",
    "\n",
    "# Add project root to sys.path so `src/` modules can be imported\n",
    "project_root = os.getcwd()\n",
    "if project_root not in sys.path:\n",
    "    sys.path.insert(0, project_root)\n",
    "    print(f\"✅ Added to sys.path: {project_root}\")\n",
    "\n",
    "# Optional: verify file presence to confirm we're in the right place\n",
    "expected_path = \"data/raw\"\n",
    "print(\n",
    "    \"📁 Output path ready\"\n",
    "    if os.path.exists(expected_path)\n",
    "    else f\"⚠️ Output path not found: {expected_path}\"\n",
    ")"
   ]
  },
  {
   "cell_type": "markdown",
   "id": "0040ae0f",
   "metadata": {},
   "source": [
    "## 📦 Imports & Environment Setup\n",
    "\n",
    "This cell loads the core libraries required for **proxy label engineering, statistical hypothesis testing, behavioral clustering, and visualization** for **Bati Bank’s BNPL Credit Risk Modeling**.\n",
    "\n",
    "Imports are grouped by function:\n",
    "\n",
    "- **Data handling:** `pandas`, `numpy`\n",
    "- **Visualization:** `matplotlib`, `seaborn`\n",
    "- **Date/time analysis:** `datetime`, `pandas.to_datetime`\n",
    "- **Statistical testing:** `scipy.stats` for normality and significance testing\n",
    "- **Clustering & scaling:** `scikit-learn` for behavioral segmentation\n",
    "- **System & utilities:** `os`, `warnings`, `pathlib`\n"
   ]
  },
  {
   "cell_type": "code",
   "execution_count": 2,
   "id": "77acae56",
   "metadata": {},
   "outputs": [],
   "source": [
    "# ---------------------------\n",
    "# 📦 Imports & Environment Setup\n",
    "# ---------------------------\n",
    "\n",
    "# Data handling\n",
    "import pandas as pd\n",
    "import numpy as np\n",
    "\n",
    "# Visualization\n",
    "import matplotlib.pyplot as plt\n",
    "import seaborn as sns\n",
    "\n",
    "# Date/time analysis\n",
    "from datetime import datetime\n",
    "from pandas.api.types import CategoricalDtype\n",
    "\n",
    "# Statistical testing\n",
    "from scipy.stats import shapiro, ttest_ind, mannwhitneyu\n",
    "\n",
    "# Clustering & scaling\n",
    "from sklearn.preprocessing import StandardScaler\n",
    "from sklearn.cluster import KMeans\n",
    "\n",
    "# System & utilities\n",
    "import os\n",
    "import warnings\n",
    "from pathlib import Path\n",
    "\n",
    "# Configure display settings\n",
    "pd.set_option(\"display.max_columns\", None)\n",
    "pd.set_option(\"display.float_format\", \"{:,.2f}\".format)\n",
    "warnings.filterwarnings(\"ignore\")\n",
    "\n",
    "# Set seaborn style\n",
    "sns.set(style=\"whitegrid\", context=\"notebook\")\n"
   ]
  },
  {
   "cell_type": "markdown",
   "id": "07a7032b",
   "metadata": {},
   "source": [
    "## 📥 Load & Preview Enriched Transaction Dataset (Task 3 Feature Engineering)\n",
    "\n",
    "This step loads the **enriched transaction dataset** (`enriched_transactions_with_rfm.csv`) prepared in **Task 2 (EDA & Feature Engineering)**.  \n",
    "This dataset combines behavioral features such as **Recency, Frequency, Monetary (RFM)** metrics, **shared account flags**, and **transaction details** required for proxy risk label engineering.\n",
    "\n",
    "Key actions in this step:\n",
    "- Load the **processed** dataset from `data/processed/enriched_transactions_with_rfm.csv` using the `CreditDataLoader` utility.\n",
    "- Verify data structure: row count, columns, data types, sample preview.\n",
    "- Provide clear diagnostics and robust error handling.\n",
    "- Ensure compatibility with downstream **statistical testing, clustering, and label creation** in Task 3.\n",
    "\n",
    "---"
   ]
  },
  {
   "cell_type": "code",
   "execution_count": 3,
   "id": "558970f7",
   "metadata": {},
   "outputs": [
    {
     "name": "stdout",
     "output_type": "stream",
     "text": [
      "✅ Transaction dataset loaded: 95,662 rows × 20 columns\n",
      "✅ Data loaded successfully: 95,662 rows × 20 columns\n"
     ]
    }
   ],
   "source": [
    "# ------------------------------------------------------------------------------\n",
    "# 📦 Load Enriched Credit Transaction Data (Production-Grade Loader)\n",
    "# ------------------------------------------------------------------------------\n",
    "\n",
    "from src.data_loader import CreditDataLoader  # Custom loader from Task 2\n",
    "\n",
    "# Define path to processed enriched dataset\n",
    "data_path = \"data/processed/enriched_transactions_with_rfm.csv\"\n",
    "\n",
    "# Initialize the loader class\n",
    "loader = CreditDataLoader(filepath=data_path)\n",
    "\n",
    "# Load DataFrame with defensive error handling\n",
    "try:\n",
    "    df = loader.load()\n",
    "    print(f\"✅ Data loaded successfully: {df.shape[0]:,} rows × {df.shape[1]:,} columns\")\n",
    "except Exception as e:\n",
    "    print(f\"❌ Failed to load enriched transaction data: {e}\")\n"
   ]
  },
  {
   "cell_type": "markdown",
   "id": "eee355a3",
   "metadata": {},
   "source": [
    "\n",
    "## 🧪 2️⃣ Global Statistical Testing: Shared vs Non-Shared Account Behavior\n",
    "\n",
    "This step statistically evaluates whether **behavioral transaction patterns (RFM)** differ significantly between **shared account users** and **non-shared account users**.\n",
    "\n",
    "Key actions:\n",
    "- Apply **Shapiro-Wilk** tests for normality.\n",
    "- Select appropriate tests (**t-test** or **Mann-Whitney U**) based on distribution.\n",
    "- Return p-values and assess whether to segment risk analysis by shared account status."
   ]
  },
  {
   "cell_type": "code",
   "execution_count": 4,
   "id": "22db3541",
   "metadata": {},
   "outputs": [
    {
     "name": "stdout",
     "output_type": "stream",
     "text": [
      "📊 Statistical Test Results: {'Recency': {'p_value': np.float64(5.498701801043725e-71)}, 'Frequency': {'p_value': np.float64(0.0)}}\n",
      "🔍 Significant Behavioral Difference: True\n",
      "🚨 Shared account behavior shows statistically significant differences in Recency/Frequency. Proceeding with IsSharedAccount retained for downstream modeling.\n"
     ]
    }
   ],
   "source": [
    "# ------------------------------------------------------------------------------\n",
    "# 🧪 Shared vs Non-Shared Statistical Testing\n",
    "# ------------------------------------------------------------------------------\n",
    "\n",
    "from src.features.proxy_label_engineer import StatisticalTester  # Import statistical module\n",
    "\n",
    "# Instantiate tester class\n",
    "tester = StatisticalTester(confidence_level=0.95)\n",
    "\n",
    "# Evaluate behavioral difference between shared and non-shared accounts\n",
    "results, significant = tester.evaluate_shared_vs_non_shared(df)\n",
    "\n",
    "# Display results\n",
    "print(\"📊 Statistical Test Results:\", results)\n",
    "print(\"🔍 Significant Behavioral Difference:\", significant)\n",
    "\n",
    "# Display global statistical significance\n",
    "if significant:\n",
    "    print(\n",
    "        \"🚨 Shared account behavior shows statistically significant differences in Recency/Frequency. Proceeding with IsSharedAccount retained for downstream modeling.\"\n",
    "    )\n",
    "else:\n",
    "    print(\n",
    "        \"✅ No significant behavioral difference detected. Proceeding with unified risk labeling (IsSharedAccount retained regardless).\"\n",
    "    )"
   ]
  },
  {
   "cell_type": "markdown",
   "id": "2ceeb029",
   "metadata": {},
   "source": [
    "## 🔐 3️⃣ Apply Fraud Risk Tagging (Hard-Coded High Risk)\n",
    "\n",
    "This step applies a **hard rule to flag known fraud cases** using the `FraudResult` field.  \n",
    "Any transaction with `FraudResult == 1` is tagged as **High Risk** (risk category = 2) without override.\n",
    "\n",
    "Key actions:\n",
    "- Add fraud tagging column (`FraudRisk`).\n",
    "- Ensure downstream risk category respects this hard rule."
   ]
  },
  {
   "cell_type": "code",
   "execution_count": 5,
   "id": "4219e4dc",
   "metadata": {},
   "outputs": [],
   "source": [
    "# ------------------------------------------------------------------------------\n",
    "# 🔐 Apply Fraud Risk Tag (Automatic High Risk Assignment)\n",
    "# ------------------------------------------------------------------------------\n",
    "\n",
    "from src.features.proxy_label_engineer import RiskCategorizer  # Import risk categorizer\n",
    "\n",
    "# Instantiate categorizer\n",
    "categorizer = RiskCategorizer(n_clusters=3, random_state=42)\n",
    "\n",
    "# Apply fraud tagging\n",
    "df = categorizer.apply_fraud_flag(df)"
   ]
  },
  {
   "cell_type": "markdown",
   "id": "76302e71",
   "metadata": {},
   "source": [
    "## 🏷 4️⃣ Apply Behavioral Risk Segmentation & Behavioral Variance Detection\n",
    "\n",
    "This step performs two key actions to assess customer transaction behavior for **proxy risk labeling**:\n",
    "\n",
    "### 1️⃣ Behavioral Risk Segmentation (Clustering)\n",
    "- Applies **K-Means clustering** on **Recency, Frequency, Monetary (RFM)** features.\n",
    "- Groups customers into behaviorally similar clusters for downstream **risk scoring** and **credit policy differentiation**.\n",
    "\n",
    "### 2️⃣ Per-Customer Behavioral Variance Detection\n",
    "- Evaluates whether individual customers display **inconsistent behavior** when using **shared vs non-shared accounts**.\n",
    "- Flags customers as **Behaviorally Volatile** if statistically significant differences are detected in their **Recency** or **Frequency** patterns across usage types.\n",
    "- This flag helps identify customers who may pose **medium behavioral risk** even if not captured by fraud detection or clustering alone.\n",
    "\n",
    "✅ These combined behavioral insights feed into the **weighted risk scoring system** that generates final risk categories and informs predictive modeling in later tasks."
   ]
  },
  {
   "cell_type": "code",
   "execution_count": 6,
   "id": "39ebf772",
   "metadata": {},
   "outputs": [
    {
     "name": "stdout",
     "output_type": "stream",
     "text": [
      "📝 Behavioral Variance Flag Distribution: BehavioralVarianceFlag\n",
      "0   1.00\n",
      "Name: proportion, dtype: float64\n"
     ]
    }
   ],
   "source": [
    "# ------------------------------------------------------------------------------\n",
    "# 🏷 Apply Behavioral Segmentation (K-Means Clustering)\n",
    "# ------------------------------------------------------------------------------\n",
    "\n",
    "# Apply clustering on scaled RFM features\n",
    "df = categorizer.apply_behavioral_segmentation(df)\n",
    "\n",
    "# ----------------------------------------------------------------------\n",
    "# 🔍 Apply Per-Customer Behavioral Variance Detection\n",
    "# ----------------------------------------------------------------------\n",
    "\n",
    "# Apply individual behavioral variance checks\n",
    "df = tester.evaluate_individual_behavior_variance(df)\n",
    "\n",
    "# Quick check: How many customers flagged as behaviorally inconsistent?\n",
    "variance_summary = df[\"BehavioralVarianceFlag\"].value_counts(normalize=True)\n",
    "print(\"📝 Behavioral Variance Flag Distribution:\", variance_summary)"
   ]
  },
  {
   "cell_type": "markdown",
   "id": "bb95b8b3",
   "metadata": {},
   "source": [
    "## 🛡 5️⃣ Assign Multi-Tier Risk Category (Low, Medium, High)\n",
    "\n",
    "This step assigns a **three-tier risk category** to each customer:\n",
    "- **2 = High Risk** (fraud or disengaged behavior)\n",
    "- **1 = Medium Risk** (behavioral anomaly)\n",
    "- **0 = Low Risk** (stable behavior)\n",
    "\n",
    "Key actions:\n",
    "- Combine fraud tag and cluster assignments.\n",
    "- Plot risk distribution for visual diagnostics."
   ]
  },
  {
   "cell_type": "code",
   "execution_count": 7,
   "id": "52b6da08",
   "metadata": {},
   "outputs": [
    {
     "name": "stdout",
     "output_type": "stream",
     "text": [
      "✅ proxy_label_engineer module reloaded successfully.\n"
     ]
    }
   ],
   "source": [
    "# ------------------------------------------------------------\n",
    "# 🔄 Hot Reload: proxy_label_engineer.py (No Kernel Restart)\n",
    "# ------------------------------------------------------------\n",
    "\n",
    "import importlib\n",
    "\n",
    "# Reload main proxy label engineer module\n",
    "import src.features.proxy_label_engineer as proxy_label_engineer\n",
    "\n",
    "importlib.reload(proxy_label_engineer)\n",
    "\n",
    "# Reload specific classes if using direct imports\n",
    "from src.features.proxy_label_engineer import (\n",
    "    StatisticalTester,\n",
    "    RiskCategorizer,\n",
    "    BinaryLabelGenerator,\n",
    ")\n",
    "\n",
    "print(\"✅ proxy_label_engineer module reloaded successfully.\")"
   ]
  },
  {
   "cell_type": "code",
   "execution_count": 8,
   "id": "a533d407",
   "metadata": {},
   "outputs": [
    {
     "name": "stderr",
     "output_type": "stream",
     "text": [
      "INFO:matplotlib.category:Using categorical units to plot a list of strings that are all parsable as floats or dates. If these strings should be plotted as numbers, cast to the appropriate data type before plotting.\n",
      "INFO:matplotlib.category:Using categorical units to plot a list of strings that are all parsable as floats or dates. If these strings should be plotted as numbers, cast to the appropriate data type before plotting.\n"
     ]
    },
    {
     "data": {
      "image/png": "[encoded data removed]",
      "text/plain": [
       "<Figure size 640x480 with 1 Axes>"
      ]
     },
     "metadata": {},
     "output_type": "display_data"
    },
    {
     "name": "stdout",
     "output_type": "stream",
     "text": [
      "🏷 Customer Risk Tag Distribution: CustomerRiskTag\n",
      "Low Risk        0.72\n",
      "Standard Risk   0.27\n",
      "Fraud Flagged   0.00\n",
      "Name: proportion, dtype: float64\n"
     ]
    }
   ],
   "source": [
    "# ------------------------------------------------------------------------------\n",
    "# 🛡 Assign Risk Category & Visualize Risk Distribution\n",
    "# ------------------------------------------------------------------------------\n",
    "\n",
    "# Assign risk categories (0, 1, 2)\n",
    "df = categorizer.assign_risk_category(df)\n",
    "\n",
    "# Confirm updated categories\n",
    "df[\"risk_category\"].value_counts(normalize=True)\n",
    "\n",
    "# Plot risk distribution\n",
    "categorizer.plot_risk_distribution(df)\n",
    "\n",
    "# ----------------------------------------------------------------------\n",
    "# 🏷 Assign Descriptive Customer Risk Tags\n",
    "# ----------------------------------------------------------------------\n",
    "\n",
    "# Apply descriptive customer risk tags\n",
    "df = categorizer.assign_customer_risk_tag(df)\n",
    "\n",
    "# Quick check on tag distribution\n",
    "tag_summary = df[\"CustomerRiskTag\"].value_counts(normalize=True)\n",
    "print(\"🏷 Customer Risk Tag Distribution:\", tag_summary)"
   ]
  },
  {
   "cell_type": "markdown",
   "id": "fe7e7310",
   "metadata": {},
   "source": [
    "## 🚦 6️⃣ Generate Binary Risk Label for Predictive Modeling\n",
    "\n",
    "This step creates the **binary target variable (`is_high_risk`)** for model training:\n",
    "- **1** = High Risk customer\n",
    "- **0** = Not High Risk customer\n",
    "\n",
    "Key actions:\n",
    "- Generate binary label based on risk category.\n",
    "- Validate class balance before modeling."
   ]
  },
  {
   "cell_type": "code",
   "execution_count": 9,
   "id": "d4a081c2",
   "metadata": {},
   "outputs": [
    {
     "data": {
      "application/vnd.microsoft.datawrangler.viewer.v0+json": {
       "columns": [
        {
         "name": "is_high_risk",
         "rawType": "int64",
         "type": "integer"
        },
        {
         "name": "proportion",
         "rawType": "float64",
         "type": "float"
        }
       ],
       "ref": "e956e7d3-5dcf-4dbb-8126-2455f1b3b294",
       "rows": [
        [
         "0",
         "0.801938073634254"
        ],
        [
         "1",
         "0.19806192636574607"
        ]
       ],
       "shape": {
        "columns": 1,
        "rows": 2
       }
      },
      "text/plain": [
       "is_high_risk\n",
       "0   0.80\n",
       "1   0.20\n",
       "Name: proportion, dtype: float64"
      ]
     },
     "execution_count": 9,
     "metadata": {},
     "output_type": "execute_result"
    }
   ],
   "source": [
    "# ------------------------------------------------------------------------------\n",
    "# 🚦 Generate Binary Target Label (is_high_risk)\n",
    "# ------------------------------------------------------------------------------\n",
    "\n",
    "from src.features.proxy_label_engineer import (\n",
    "    BinaryLabelGenerator,\n",
    ")  # Import binary label generator\n",
    "\n",
    "# Instantiate binary label generator\n",
    "binary_gen = BinaryLabelGenerator()\n",
    "\n",
    "# Generate binary label\n",
    "df = binary_gen.generate_binary_label(df)\n",
    "\n",
    "# Quick class balance check\n",
    "df[\"is_high_risk\"].value_counts(normalize=True)"
   ]
  },
  {
   "cell_type": "markdown",
   "id": "40073c5a",
   "metadata": {},
   "source": [
    "\n",
    "## 💾 7️⃣ Save Final Dataset with Risk Labels (Task 5 Ready)\n",
    "\n",
    "This step saves the **final enriched dataset** with all risk labels into the `/data/processed/` directory for use in **Task 5: Model Training**.\n",
    "\n",
    "Key actions:\n",
    "- Save to CSV.\n",
    "- Confirm successful write."
   ]
  },
  {
   "cell_type": "code",
   "execution_count": 10,
   "id": "e2aff122",
   "metadata": {},
   "outputs": [
    {
     "name": "stdout",
     "output_type": "stream",
     "text": [
      "✅ Final dataset columns: ['TransactionId', 'BatchId', 'AccountId', 'SubscriptionId', 'CustomerId', 'CurrencyCode', 'CountryCode', 'ProviderId', 'ProductId', 'ProductCategory', 'ChannelId', 'Amount', 'Value', 'TransactionStartTime', 'PricingStrategy', 'FraudResult', 'IsSharedAccount', 'Recency', 'Frequency', 'Monetary', 'FraudRisk', 'BehaviorCluster', 'BehavioralVarianceFlag', 'RiskScore', 'risk_category', 'CustomerRiskTag', 'is_high_risk']\n",
      "✅ Data saved: data/processed/enriched_transactions_with_proxy_labels.csv\n"
     ]
    }
   ],
   "source": [
    "# ------------------------------------------------------------------------------\n",
    "# 💾 Save Enriched Dataset with Risk Labels\n",
    "# ------------------------------------------------------------------------------\n",
    "\n",
    "# Confirm final columns before saving\n",
    "print(\"✅ Final dataset columns:\", df.columns.tolist()) # Confirm final columns\n",
    "\n",
    "# Define output path\n",
    "output_path = \"data/processed/enriched_transactions_with_proxy_labels.csv\"\n",
    "\n",
    "# Save DataFrame\n",
    "df.to_csv(output_path, index=False)\n",
    "\n",
    "print(f\"✅ Data saved: {output_path}\")"
   ]
  }
 ],
 "metadata": {
  "kernelspec": {
   "display_name": "credit-scoring-challenge",
   "language": "python",
   "name": "python3"
  },
  "language_info": {
   "codemirror_mode": {
    "name": "ipython",
    "version": 3
   },
   "file_extension": ".py",
   "mimetype": "text/x-python",
   "name": "python",
   "nbconvert_exporter": "python",
   "pygments_lexer": "ipython3",
   "version": "3.12.0"
  }
 },
 "nbformat": 4,
 "nbformat_minor": 5
}
